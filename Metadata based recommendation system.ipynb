{
 "cells": [
  {
   "cell_type": "code",
   "execution_count": 1,
   "id": "4eb6f5aa",
   "metadata": {},
   "outputs": [],
   "source": [
    "## importing libraries\n",
    "import numpy as np\n",
    "import pandas as pd\n",
    "import warnings\n",
    "warnings.filterwarnings(\"ignore\")\n",
    "\n",
    "\n",
    "from sklearn.metrics.pairwise import linear_kernel, cosine_similarity\n",
    "from sklearn.feature_extraction.text import TfidfVectorizer, CountVectorizer"
   ]
  },
  {
   "cell_type": "code",
   "execution_count": 2,
   "id": "eef51213",
   "metadata": {},
   "outputs": [],
   "source": [
    "## functions used:\n",
    "\n",
    "## converst to int type.\n",
    "def convert_int(x):\n",
    "    try:\n",
    "        return int(x)\n",
    "    except:\n",
    "        return 0\n",
    "    \n",
    "    \n",
    "## function to extract director of the movie from its respective column\n",
    "def find_director(x):\n",
    "    for i in x:\n",
    "        if i['job'] == 'Director':\n",
    "            return i['name']\n",
    "    return np.nan\n",
    "\n",
    "\n",
    "\n",
    "## extract the leads of the movie from its respective column\n",
    "def lead_cast(x):\n",
    "    if isinstance(x, list):\n",
    "        leads = []\n",
    "        for i in x:\n",
    "            leads.append(i['name'])\n",
    "        return leads\n",
    "    return []\n",
    "            \n",
    "    \n",
    "    \n",
    "## extract frequent occuring keyword from its respective column\n",
    "def keyword_extractor(x):\n",
    "    if isinstance(x, list):\n",
    "        keywords = []\n",
    "        for i in x:\n",
    "            keywords.append(i['name'])\n",
    "        \n",
    "        return keywords\n",
    "    \n",
    "    return []\n",
    "    \n",
    "\n",
    "\n",
    "def freq_words(x):\n",
    "    frequeunt_words = {}\n",
    "    for i in x:\n",
    "        for word in i:\n",
    "            if word not in frequeunt_words:\n",
    "                frequeunt_words[word] = 1\n",
    "            else:\n",
    "                frequeunt_words[word] += 1\n",
    "                \n",
    "    \n",
    "                \n",
    "    return frequeunt_words\n",
    "\n",
    "\n",
    "\n",
    "## filters commonly occuring keywords.\n",
    "def filtered_keywords(x):\n",
    "    words = []\n",
    "    for i in x:\n",
    "        if i in s:\n",
    "            words.append(i)\n",
    "            \n",
    "    return words\n",
    "\n",
    "\n",
    "## function that filters types of genre a particular movie belongs to. A movie can have more than 1 genre.\n",
    "def get_genres(x):\n",
    "    if isinstance(x, list):\n",
    "        genres = []\n",
    "        for i in x:\n",
    "            genres.append(i['name'])\n",
    "        \n",
    "        return genres\n",
    "        \n",
    "    return []\n"
   ]
  },
  {
   "cell_type": "code",
   "execution_count": 3,
   "id": "d862bcaf",
   "metadata": {},
   "outputs": [
    {
     "data": {
      "text/html": [
       "<div>\n",
       "<style scoped>\n",
       "    .dataframe tbody tr th:only-of-type {\n",
       "        vertical-align: middle;\n",
       "    }\n",
       "\n",
       "    .dataframe tbody tr th {\n",
       "        vertical-align: top;\n",
       "    }\n",
       "\n",
       "    .dataframe thead th {\n",
       "        text-align: right;\n",
       "    }\n",
       "</style>\n",
       "<table border=\"1\" class=\"dataframe\">\n",
       "  <thead>\n",
       "    <tr style=\"text-align: right;\">\n",
       "      <th></th>\n",
       "      <th>adult</th>\n",
       "      <th>belongs_to_collection</th>\n",
       "      <th>budget</th>\n",
       "      <th>genres</th>\n",
       "      <th>homepage</th>\n",
       "      <th>id</th>\n",
       "      <th>imdb_id</th>\n",
       "      <th>original_language</th>\n",
       "      <th>original_title</th>\n",
       "      <th>overview</th>\n",
       "      <th>...</th>\n",
       "      <th>release_date</th>\n",
       "      <th>revenue</th>\n",
       "      <th>runtime</th>\n",
       "      <th>spoken_languages</th>\n",
       "      <th>status</th>\n",
       "      <th>tagline</th>\n",
       "      <th>title</th>\n",
       "      <th>video</th>\n",
       "      <th>vote_average</th>\n",
       "      <th>vote_count</th>\n",
       "    </tr>\n",
       "  </thead>\n",
       "  <tbody>\n",
       "    <tr>\n",
       "      <th>0</th>\n",
       "      <td>False</td>\n",
       "      <td>{'id': 10194, 'name': 'Toy Story Collection', ...</td>\n",
       "      <td>30000000</td>\n",
       "      <td>[{'id': 16, 'name': 'Animation'}, {'id': 35, '...</td>\n",
       "      <td>http://toystory.disney.com/toy-story</td>\n",
       "      <td>862</td>\n",
       "      <td>tt0114709</td>\n",
       "      <td>en</td>\n",
       "      <td>Toy Story</td>\n",
       "      <td>Led by Woody, Andy's toys live happily in his ...</td>\n",
       "      <td>...</td>\n",
       "      <td>1995-10-30</td>\n",
       "      <td>373554033.0</td>\n",
       "      <td>81.0</td>\n",
       "      <td>[{'iso_639_1': 'en', 'name': 'English'}]</td>\n",
       "      <td>Released</td>\n",
       "      <td>NaN</td>\n",
       "      <td>Toy Story</td>\n",
       "      <td>False</td>\n",
       "      <td>7.7</td>\n",
       "      <td>5415.0</td>\n",
       "    </tr>\n",
       "    <tr>\n",
       "      <th>1</th>\n",
       "      <td>False</td>\n",
       "      <td>NaN</td>\n",
       "      <td>65000000</td>\n",
       "      <td>[{'id': 12, 'name': 'Adventure'}, {'id': 14, '...</td>\n",
       "      <td>NaN</td>\n",
       "      <td>8844</td>\n",
       "      <td>tt0113497</td>\n",
       "      <td>en</td>\n",
       "      <td>Jumanji</td>\n",
       "      <td>When siblings Judy and Peter discover an encha...</td>\n",
       "      <td>...</td>\n",
       "      <td>1995-12-15</td>\n",
       "      <td>262797249.0</td>\n",
       "      <td>104.0</td>\n",
       "      <td>[{'iso_639_1': 'en', 'name': 'English'}, {'iso...</td>\n",
       "      <td>Released</td>\n",
       "      <td>Roll the dice and unleash the excitement!</td>\n",
       "      <td>Jumanji</td>\n",
       "      <td>False</td>\n",
       "      <td>6.9</td>\n",
       "      <td>2413.0</td>\n",
       "    </tr>\n",
       "    <tr>\n",
       "      <th>2</th>\n",
       "      <td>False</td>\n",
       "      <td>{'id': 119050, 'name': 'Grumpy Old Men Collect...</td>\n",
       "      <td>0</td>\n",
       "      <td>[{'id': 10749, 'name': 'Romance'}, {'id': 35, ...</td>\n",
       "      <td>NaN</td>\n",
       "      <td>15602</td>\n",
       "      <td>tt0113228</td>\n",
       "      <td>en</td>\n",
       "      <td>Grumpier Old Men</td>\n",
       "      <td>A family wedding reignites the ancient feud be...</td>\n",
       "      <td>...</td>\n",
       "      <td>1995-12-22</td>\n",
       "      <td>0.0</td>\n",
       "      <td>101.0</td>\n",
       "      <td>[{'iso_639_1': 'en', 'name': 'English'}]</td>\n",
       "      <td>Released</td>\n",
       "      <td>Still Yelling. Still Fighting. Still Ready for...</td>\n",
       "      <td>Grumpier Old Men</td>\n",
       "      <td>False</td>\n",
       "      <td>6.5</td>\n",
       "      <td>92.0</td>\n",
       "    </tr>\n",
       "    <tr>\n",
       "      <th>3</th>\n",
       "      <td>False</td>\n",
       "      <td>NaN</td>\n",
       "      <td>16000000</td>\n",
       "      <td>[{'id': 35, 'name': 'Comedy'}, {'id': 18, 'nam...</td>\n",
       "      <td>NaN</td>\n",
       "      <td>31357</td>\n",
       "      <td>tt0114885</td>\n",
       "      <td>en</td>\n",
       "      <td>Waiting to Exhale</td>\n",
       "      <td>Cheated on, mistreated and stepped on, the wom...</td>\n",
       "      <td>...</td>\n",
       "      <td>1995-12-22</td>\n",
       "      <td>81452156.0</td>\n",
       "      <td>127.0</td>\n",
       "      <td>[{'iso_639_1': 'en', 'name': 'English'}]</td>\n",
       "      <td>Released</td>\n",
       "      <td>Friends are the people who let you be yourself...</td>\n",
       "      <td>Waiting to Exhale</td>\n",
       "      <td>False</td>\n",
       "      <td>6.1</td>\n",
       "      <td>34.0</td>\n",
       "    </tr>\n",
       "    <tr>\n",
       "      <th>4</th>\n",
       "      <td>False</td>\n",
       "      <td>{'id': 96871, 'name': 'Father of the Bride Col...</td>\n",
       "      <td>0</td>\n",
       "      <td>[{'id': 35, 'name': 'Comedy'}]</td>\n",
       "      <td>NaN</td>\n",
       "      <td>11862</td>\n",
       "      <td>tt0113041</td>\n",
       "      <td>en</td>\n",
       "      <td>Father of the Bride Part II</td>\n",
       "      <td>Just when George Banks has recovered from his ...</td>\n",
       "      <td>...</td>\n",
       "      <td>1995-02-10</td>\n",
       "      <td>76578911.0</td>\n",
       "      <td>106.0</td>\n",
       "      <td>[{'iso_639_1': 'en', 'name': 'English'}]</td>\n",
       "      <td>Released</td>\n",
       "      <td>Just When His World Is Back To Normal... He's ...</td>\n",
       "      <td>Father of the Bride Part II</td>\n",
       "      <td>False</td>\n",
       "      <td>5.7</td>\n",
       "      <td>173.0</td>\n",
       "    </tr>\n",
       "  </tbody>\n",
       "</table>\n",
       "<p>5 rows × 24 columns</p>\n",
       "</div>"
      ],
      "text/plain": [
       "   adult                              belongs_to_collection    budget  \\\n",
       "0  False  {'id': 10194, 'name': 'Toy Story Collection', ...  30000000   \n",
       "1  False                                                NaN  65000000   \n",
       "2  False  {'id': 119050, 'name': 'Grumpy Old Men Collect...         0   \n",
       "3  False                                                NaN  16000000   \n",
       "4  False  {'id': 96871, 'name': 'Father of the Bride Col...         0   \n",
       "\n",
       "                                              genres  \\\n",
       "0  [{'id': 16, 'name': 'Animation'}, {'id': 35, '...   \n",
       "1  [{'id': 12, 'name': 'Adventure'}, {'id': 14, '...   \n",
       "2  [{'id': 10749, 'name': 'Romance'}, {'id': 35, ...   \n",
       "3  [{'id': 35, 'name': 'Comedy'}, {'id': 18, 'nam...   \n",
       "4                     [{'id': 35, 'name': 'Comedy'}]   \n",
       "\n",
       "                               homepage     id    imdb_id original_language  \\\n",
       "0  http://toystory.disney.com/toy-story    862  tt0114709                en   \n",
       "1                                   NaN   8844  tt0113497                en   \n",
       "2                                   NaN  15602  tt0113228                en   \n",
       "3                                   NaN  31357  tt0114885                en   \n",
       "4                                   NaN  11862  tt0113041                en   \n",
       "\n",
       "                original_title  \\\n",
       "0                    Toy Story   \n",
       "1                      Jumanji   \n",
       "2             Grumpier Old Men   \n",
       "3            Waiting to Exhale   \n",
       "4  Father of the Bride Part II   \n",
       "\n",
       "                                            overview  ... release_date  \\\n",
       "0  Led by Woody, Andy's toys live happily in his ...  ...   1995-10-30   \n",
       "1  When siblings Judy and Peter discover an encha...  ...   1995-12-15   \n",
       "2  A family wedding reignites the ancient feud be...  ...   1995-12-22   \n",
       "3  Cheated on, mistreated and stepped on, the wom...  ...   1995-12-22   \n",
       "4  Just when George Banks has recovered from his ...  ...   1995-02-10   \n",
       "\n",
       "       revenue runtime                                   spoken_languages  \\\n",
       "0  373554033.0    81.0           [{'iso_639_1': 'en', 'name': 'English'}]   \n",
       "1  262797249.0   104.0  [{'iso_639_1': 'en', 'name': 'English'}, {'iso...   \n",
       "2          0.0   101.0           [{'iso_639_1': 'en', 'name': 'English'}]   \n",
       "3   81452156.0   127.0           [{'iso_639_1': 'en', 'name': 'English'}]   \n",
       "4   76578911.0   106.0           [{'iso_639_1': 'en', 'name': 'English'}]   \n",
       "\n",
       "     status                                            tagline  \\\n",
       "0  Released                                                NaN   \n",
       "1  Released          Roll the dice and unleash the excitement!   \n",
       "2  Released  Still Yelling. Still Fighting. Still Ready for...   \n",
       "3  Released  Friends are the people who let you be yourself...   \n",
       "4  Released  Just When His World Is Back To Normal... He's ...   \n",
       "\n",
       "                         title  video vote_average vote_count  \n",
       "0                    Toy Story  False          7.7     5415.0  \n",
       "1                      Jumanji  False          6.9     2413.0  \n",
       "2             Grumpier Old Men  False          6.5       92.0  \n",
       "3            Waiting to Exhale  False          6.1       34.0  \n",
       "4  Father of the Bride Part II  False          5.7      173.0  \n",
       "\n",
       "[5 rows x 24 columns]"
      ]
     },
     "execution_count": 3,
     "metadata": {},
     "output_type": "execute_result"
    }
   ],
   "source": [
    "## reading the movie data file\n",
    "movie_df = pd.read_csv('movies_metadata.csv')\n",
    "movie_df.head()"
   ]
  },
  {
   "cell_type": "code",
   "execution_count": 4,
   "id": "2bd60a1e",
   "metadata": {},
   "outputs": [
    {
     "data": {
      "text/plain": [
       "(45466, 24)"
      ]
     },
     "execution_count": 4,
     "metadata": {},
     "output_type": "execute_result"
    }
   ],
   "source": [
    "## check for the shape of the movie file\n",
    "movie_df.shape"
   ]
  },
  {
   "cell_type": "code",
   "execution_count": 5,
   "id": "01572329",
   "metadata": {},
   "outputs": [
    {
     "data": {
      "text/plain": [
       "0        1995\n",
       "1        1995\n",
       "2        1995\n",
       "3        1995\n",
       "4        1995\n",
       "         ... \n",
       "45461       0\n",
       "45462    2011\n",
       "45463    2003\n",
       "45464    1917\n",
       "45465    2017\n",
       "Name: year, Length: 45466, dtype: int64"
      ]
     },
     "execution_count": 5,
     "metadata": {},
     "output_type": "execute_result"
    }
   ],
   "source": [
    "## convert datetime column to year column\n",
    "movie_df['year'] = movie_df['release_date'].apply(lambda x: str(x).split('-')[0] if x != np.nan else np.nan)\n",
    "movie_df['year'] = movie_df['year'].apply(convert_int)\n",
    "movie_df['year']"
   ]
  },
  {
   "cell_type": "code",
   "execution_count": 6,
   "id": "5f9ed54d",
   "metadata": {},
   "outputs": [
    {
     "data": {
      "text/plain": [
       "adult                     object\n",
       "belongs_to_collection     object\n",
       "budget                    object\n",
       "genres                    object\n",
       "homepage                  object\n",
       "id                        object\n",
       "imdb_id                   object\n",
       "original_language         object\n",
       "original_title            object\n",
       "overview                  object\n",
       "popularity                object\n",
       "poster_path               object\n",
       "production_companies      object\n",
       "production_countries      object\n",
       "release_date              object\n",
       "revenue                  float64\n",
       "runtime                  float64\n",
       "spoken_languages          object\n",
       "status                    object\n",
       "tagline                   object\n",
       "title                     object\n",
       "video                     object\n",
       "vote_average             float64\n",
       "vote_count               float64\n",
       "year                       int64\n",
       "dtype: object"
      ]
     },
     "execution_count": 6,
     "metadata": {},
     "output_type": "execute_result"
    }
   ],
   "source": [
    "## data types of movie dataset.\n",
    "movie_df.dtypes"
   ]
  },
  {
   "cell_type": "code",
   "execution_count": 7,
   "id": "11e7b002",
   "metadata": {},
   "outputs": [
    {
     "data": {
      "text/plain": [
       "id               object\n",
       "genres           object\n",
       "title            object\n",
       "vote_average    float64\n",
       "vote_count      float64\n",
       "year              int64\n",
       "dtype: object"
      ]
     },
     "execution_count": 7,
     "metadata": {},
     "output_type": "execute_result"
    }
   ],
   "source": [
    "## take only relevant columns for processing.\n",
    "## it is found that 'id','genres','title','vote_average','vote_count','year' are relevant for this particular problem set.\n",
    "relevant_cols = ['id','genres','title','vote_average','vote_count','year']\n",
    "filter_df = movie_df[relevant_cols]\n",
    "filter_df.dtypes"
   ]
  },
  {
   "cell_type": "code",
   "execution_count": 8,
   "id": "708b70da",
   "metadata": {},
   "outputs": [],
   "source": [
    "## convert id from string to int.\n",
    "filter_df['id'] = filter_df['id'].apply(convert_int)"
   ]
  },
  {
   "cell_type": "code",
   "execution_count": 9,
   "id": "f6f324a6",
   "metadata": {},
   "outputs": [
    {
     "data": {
      "text/html": [
       "<div>\n",
       "<style scoped>\n",
       "    .dataframe tbody tr th:only-of-type {\n",
       "        vertical-align: middle;\n",
       "    }\n",
       "\n",
       "    .dataframe tbody tr th {\n",
       "        vertical-align: top;\n",
       "    }\n",
       "\n",
       "    .dataframe thead th {\n",
       "        text-align: right;\n",
       "    }\n",
       "</style>\n",
       "<table border=\"1\" class=\"dataframe\">\n",
       "  <thead>\n",
       "    <tr style=\"text-align: right;\">\n",
       "      <th></th>\n",
       "      <th>cast</th>\n",
       "      <th>crew</th>\n",
       "      <th>id</th>\n",
       "    </tr>\n",
       "  </thead>\n",
       "  <tbody>\n",
       "    <tr>\n",
       "      <th>0</th>\n",
       "      <td>[{'cast_id': 14, 'character': 'Woody (voice)',...</td>\n",
       "      <td>[{'credit_id': '52fe4284c3a36847f8024f49', 'de...</td>\n",
       "      <td>862</td>\n",
       "    </tr>\n",
       "    <tr>\n",
       "      <th>1</th>\n",
       "      <td>[{'cast_id': 1, 'character': 'Alan Parrish', '...</td>\n",
       "      <td>[{'credit_id': '52fe44bfc3a36847f80a7cd1', 'de...</td>\n",
       "      <td>8844</td>\n",
       "    </tr>\n",
       "    <tr>\n",
       "      <th>2</th>\n",
       "      <td>[{'cast_id': 2, 'character': 'Max Goldman', 'c...</td>\n",
       "      <td>[{'credit_id': '52fe466a9251416c75077a89', 'de...</td>\n",
       "      <td>15602</td>\n",
       "    </tr>\n",
       "    <tr>\n",
       "      <th>3</th>\n",
       "      <td>[{'cast_id': 1, 'character': \"Savannah 'Vannah...</td>\n",
       "      <td>[{'credit_id': '52fe44779251416c91011acb', 'de...</td>\n",
       "      <td>31357</td>\n",
       "    </tr>\n",
       "    <tr>\n",
       "      <th>4</th>\n",
       "      <td>[{'cast_id': 1, 'character': 'George Banks', '...</td>\n",
       "      <td>[{'credit_id': '52fe44959251416c75039ed7', 'de...</td>\n",
       "      <td>11862</td>\n",
       "    </tr>\n",
       "  </tbody>\n",
       "</table>\n",
       "</div>"
      ],
      "text/plain": [
       "                                                cast  \\\n",
       "0  [{'cast_id': 14, 'character': 'Woody (voice)',...   \n",
       "1  [{'cast_id': 1, 'character': 'Alan Parrish', '...   \n",
       "2  [{'cast_id': 2, 'character': 'Max Goldman', 'c...   \n",
       "3  [{'cast_id': 1, 'character': \"Savannah 'Vannah...   \n",
       "4  [{'cast_id': 1, 'character': 'George Banks', '...   \n",
       "\n",
       "                                                crew     id  \n",
       "0  [{'credit_id': '52fe4284c3a36847f8024f49', 'de...    862  \n",
       "1  [{'credit_id': '52fe44bfc3a36847f80a7cd1', 'de...   8844  \n",
       "2  [{'credit_id': '52fe466a9251416c75077a89', 'de...  15602  \n",
       "3  [{'credit_id': '52fe44779251416c91011acb', 'de...  31357  \n",
       "4  [{'credit_id': '52fe44959251416c75039ed7', 'de...  11862  "
      ]
     },
     "execution_count": 9,
     "metadata": {},
     "output_type": "execute_result"
    }
   ],
   "source": [
    "## meta data 1 : credits data set has character of the movie and crew information including the director\n",
    "credits_df = pd.read_csv('credits.csv')\n",
    "credits_df.head()"
   ]
  },
  {
   "cell_type": "code",
   "execution_count": 10,
   "id": "cdb78ae8",
   "metadata": {},
   "outputs": [
    {
     "data": {
      "text/html": [
       "<div>\n",
       "<style scoped>\n",
       "    .dataframe tbody tr th:only-of-type {\n",
       "        vertical-align: middle;\n",
       "    }\n",
       "\n",
       "    .dataframe tbody tr th {\n",
       "        vertical-align: top;\n",
       "    }\n",
       "\n",
       "    .dataframe thead th {\n",
       "        text-align: right;\n",
       "    }\n",
       "</style>\n",
       "<table border=\"1\" class=\"dataframe\">\n",
       "  <thead>\n",
       "    <tr style=\"text-align: right;\">\n",
       "      <th></th>\n",
       "      <th>id</th>\n",
       "      <th>keywords</th>\n",
       "    </tr>\n",
       "  </thead>\n",
       "  <tbody>\n",
       "    <tr>\n",
       "      <th>0</th>\n",
       "      <td>862</td>\n",
       "      <td>[{'id': 931, 'name': 'jealousy'}, {'id': 4290,...</td>\n",
       "    </tr>\n",
       "    <tr>\n",
       "      <th>1</th>\n",
       "      <td>8844</td>\n",
       "      <td>[{'id': 10090, 'name': 'board game'}, {'id': 1...</td>\n",
       "    </tr>\n",
       "    <tr>\n",
       "      <th>2</th>\n",
       "      <td>15602</td>\n",
       "      <td>[{'id': 1495, 'name': 'fishing'}, {'id': 12392...</td>\n",
       "    </tr>\n",
       "    <tr>\n",
       "      <th>3</th>\n",
       "      <td>31357</td>\n",
       "      <td>[{'id': 818, 'name': 'based on novel'}, {'id':...</td>\n",
       "    </tr>\n",
       "    <tr>\n",
       "      <th>4</th>\n",
       "      <td>11862</td>\n",
       "      <td>[{'id': 1009, 'name': 'baby'}, {'id': 1599, 'n...</td>\n",
       "    </tr>\n",
       "  </tbody>\n",
       "</table>\n",
       "</div>"
      ],
      "text/plain": [
       "      id                                           keywords\n",
       "0    862  [{'id': 931, 'name': 'jealousy'}, {'id': 4290,...\n",
       "1   8844  [{'id': 10090, 'name': 'board game'}, {'id': 1...\n",
       "2  15602  [{'id': 1495, 'name': 'fishing'}, {'id': 12392...\n",
       "3  31357  [{'id': 818, 'name': 'based on novel'}, {'id':...\n",
       "4  11862  [{'id': 1009, 'name': 'baby'}, {'id': 1599, 'n..."
      ]
     },
     "execution_count": 10,
     "metadata": {},
     "output_type": "execute_result"
    }
   ],
   "source": [
    "## meta data 2: keywords are important while choosing a movie, it gives an abstract overview of the tone of the movie\n",
    "keyW_df = pd.read_csv('keywords.csv')\n",
    "keyW_df.head()"
   ]
  },
  {
   "cell_type": "markdown",
   "id": "eb861382",
   "metadata": {},
   "source": [
    "##### merge the meta data 1 and 2 with our filtered movie dataset , merging is done on id"
   ]
  },
  {
   "cell_type": "code",
   "execution_count": 11,
   "id": "2dc1ea3b",
   "metadata": {},
   "outputs": [],
   "source": [
    "## merging credits and keyword dataframes to filtered movie dataset\n",
    "filter_df = filter_df.merge(credits_df, on='id')\n",
    "filter_df = filter_df.merge(keyW_df, on='id')"
   ]
  },
  {
   "cell_type": "code",
   "execution_count": 12,
   "id": "de9e39a4",
   "metadata": {},
   "outputs": [
    {
     "data": {
      "text/html": [
       "<div>\n",
       "<style scoped>\n",
       "    .dataframe tbody tr th:only-of-type {\n",
       "        vertical-align: middle;\n",
       "    }\n",
       "\n",
       "    .dataframe tbody tr th {\n",
       "        vertical-align: top;\n",
       "    }\n",
       "\n",
       "    .dataframe thead th {\n",
       "        text-align: right;\n",
       "    }\n",
       "</style>\n",
       "<table border=\"1\" class=\"dataframe\">\n",
       "  <thead>\n",
       "    <tr style=\"text-align: right;\">\n",
       "      <th></th>\n",
       "      <th>id</th>\n",
       "      <th>genres</th>\n",
       "      <th>title</th>\n",
       "      <th>vote_average</th>\n",
       "      <th>vote_count</th>\n",
       "      <th>year</th>\n",
       "      <th>cast</th>\n",
       "      <th>crew</th>\n",
       "      <th>keywords</th>\n",
       "    </tr>\n",
       "  </thead>\n",
       "  <tbody>\n",
       "    <tr>\n",
       "      <th>0</th>\n",
       "      <td>862</td>\n",
       "      <td>[{'id': 16, 'name': 'Animation'}, {'id': 35, '...</td>\n",
       "      <td>Toy Story</td>\n",
       "      <td>7.7</td>\n",
       "      <td>5415.0</td>\n",
       "      <td>1995</td>\n",
       "      <td>[{'cast_id': 14, 'character': 'Woody (voice)',...</td>\n",
       "      <td>[{'credit_id': '52fe4284c3a36847f8024f49', 'de...</td>\n",
       "      <td>[{'id': 931, 'name': 'jealousy'}, {'id': 4290,...</td>\n",
       "    </tr>\n",
       "    <tr>\n",
       "      <th>1</th>\n",
       "      <td>8844</td>\n",
       "      <td>[{'id': 12, 'name': 'Adventure'}, {'id': 14, '...</td>\n",
       "      <td>Jumanji</td>\n",
       "      <td>6.9</td>\n",
       "      <td>2413.0</td>\n",
       "      <td>1995</td>\n",
       "      <td>[{'cast_id': 1, 'character': 'Alan Parrish', '...</td>\n",
       "      <td>[{'credit_id': '52fe44bfc3a36847f80a7cd1', 'de...</td>\n",
       "      <td>[{'id': 10090, 'name': 'board game'}, {'id': 1...</td>\n",
       "    </tr>\n",
       "    <tr>\n",
       "      <th>2</th>\n",
       "      <td>15602</td>\n",
       "      <td>[{'id': 10749, 'name': 'Romance'}, {'id': 35, ...</td>\n",
       "      <td>Grumpier Old Men</td>\n",
       "      <td>6.5</td>\n",
       "      <td>92.0</td>\n",
       "      <td>1995</td>\n",
       "      <td>[{'cast_id': 2, 'character': 'Max Goldman', 'c...</td>\n",
       "      <td>[{'credit_id': '52fe466a9251416c75077a89', 'de...</td>\n",
       "      <td>[{'id': 1495, 'name': 'fishing'}, {'id': 12392...</td>\n",
       "    </tr>\n",
       "    <tr>\n",
       "      <th>3</th>\n",
       "      <td>31357</td>\n",
       "      <td>[{'id': 35, 'name': 'Comedy'}, {'id': 18, 'nam...</td>\n",
       "      <td>Waiting to Exhale</td>\n",
       "      <td>6.1</td>\n",
       "      <td>34.0</td>\n",
       "      <td>1995</td>\n",
       "      <td>[{'cast_id': 1, 'character': \"Savannah 'Vannah...</td>\n",
       "      <td>[{'credit_id': '52fe44779251416c91011acb', 'de...</td>\n",
       "      <td>[{'id': 818, 'name': 'based on novel'}, {'id':...</td>\n",
       "    </tr>\n",
       "    <tr>\n",
       "      <th>4</th>\n",
       "      <td>11862</td>\n",
       "      <td>[{'id': 35, 'name': 'Comedy'}]</td>\n",
       "      <td>Father of the Bride Part II</td>\n",
       "      <td>5.7</td>\n",
       "      <td>173.0</td>\n",
       "      <td>1995</td>\n",
       "      <td>[{'cast_id': 1, 'character': 'George Banks', '...</td>\n",
       "      <td>[{'credit_id': '52fe44959251416c75039ed7', 'de...</td>\n",
       "      <td>[{'id': 1009, 'name': 'baby'}, {'id': 1599, 'n...</td>\n",
       "    </tr>\n",
       "    <tr>\n",
       "      <th>...</th>\n",
       "      <td>...</td>\n",
       "      <td>...</td>\n",
       "      <td>...</td>\n",
       "      <td>...</td>\n",
       "      <td>...</td>\n",
       "      <td>...</td>\n",
       "      <td>...</td>\n",
       "      <td>...</td>\n",
       "      <td>...</td>\n",
       "    </tr>\n",
       "    <tr>\n",
       "      <th>46623</th>\n",
       "      <td>439050</td>\n",
       "      <td>[{'id': 18, 'name': 'Drama'}, {'id': 10751, 'n...</td>\n",
       "      <td>Subdue</td>\n",
       "      <td>4.0</td>\n",
       "      <td>1.0</td>\n",
       "      <td>0</td>\n",
       "      <td>[{'cast_id': 0, 'character': '', 'credit_id': ...</td>\n",
       "      <td>[{'credit_id': '5894a97d925141426c00818c', 'de...</td>\n",
       "      <td>[{'id': 10703, 'name': 'tragic love'}]</td>\n",
       "    </tr>\n",
       "    <tr>\n",
       "      <th>46624</th>\n",
       "      <td>111109</td>\n",
       "      <td>[{'id': 18, 'name': 'Drama'}]</td>\n",
       "      <td>Century of Birthing</td>\n",
       "      <td>9.0</td>\n",
       "      <td>3.0</td>\n",
       "      <td>2011</td>\n",
       "      <td>[{'cast_id': 1002, 'character': 'Sister Angela...</td>\n",
       "      <td>[{'credit_id': '52fe4af1c3a36847f81e9b15', 'de...</td>\n",
       "      <td>[{'id': 2679, 'name': 'artist'}, {'id': 14531,...</td>\n",
       "    </tr>\n",
       "    <tr>\n",
       "      <th>46625</th>\n",
       "      <td>67758</td>\n",
       "      <td>[{'id': 28, 'name': 'Action'}, {'id': 18, 'nam...</td>\n",
       "      <td>Betrayal</td>\n",
       "      <td>3.8</td>\n",
       "      <td>6.0</td>\n",
       "      <td>2003</td>\n",
       "      <td>[{'cast_id': 6, 'character': 'Emily Shaw', 'cr...</td>\n",
       "      <td>[{'credit_id': '52fe4776c3a368484e0c8387', 'de...</td>\n",
       "      <td>[]</td>\n",
       "    </tr>\n",
       "    <tr>\n",
       "      <th>46626</th>\n",
       "      <td>227506</td>\n",
       "      <td>[]</td>\n",
       "      <td>Satan Triumphant</td>\n",
       "      <td>0.0</td>\n",
       "      <td>0.0</td>\n",
       "      <td>1917</td>\n",
       "      <td>[{'cast_id': 2, 'character': '', 'credit_id': ...</td>\n",
       "      <td>[{'credit_id': '533bccebc3a36844cf0011a7', 'de...</td>\n",
       "      <td>[]</td>\n",
       "    </tr>\n",
       "    <tr>\n",
       "      <th>46627</th>\n",
       "      <td>461257</td>\n",
       "      <td>[]</td>\n",
       "      <td>Queerama</td>\n",
       "      <td>0.0</td>\n",
       "      <td>0.0</td>\n",
       "      <td>2017</td>\n",
       "      <td>[]</td>\n",
       "      <td>[{'credit_id': '593e676c92514105b702e68e', 'de...</td>\n",
       "      <td>[]</td>\n",
       "    </tr>\n",
       "  </tbody>\n",
       "</table>\n",
       "<p>46628 rows × 9 columns</p>\n",
       "</div>"
      ],
      "text/plain": [
       "           id                                             genres  \\\n",
       "0         862  [{'id': 16, 'name': 'Animation'}, {'id': 35, '...   \n",
       "1        8844  [{'id': 12, 'name': 'Adventure'}, {'id': 14, '...   \n",
       "2       15602  [{'id': 10749, 'name': 'Romance'}, {'id': 35, ...   \n",
       "3       31357  [{'id': 35, 'name': 'Comedy'}, {'id': 18, 'nam...   \n",
       "4       11862                     [{'id': 35, 'name': 'Comedy'}]   \n",
       "...       ...                                                ...   \n",
       "46623  439050  [{'id': 18, 'name': 'Drama'}, {'id': 10751, 'n...   \n",
       "46624  111109                      [{'id': 18, 'name': 'Drama'}]   \n",
       "46625   67758  [{'id': 28, 'name': 'Action'}, {'id': 18, 'nam...   \n",
       "46626  227506                                                 []   \n",
       "46627  461257                                                 []   \n",
       "\n",
       "                             title  vote_average  vote_count  year  \\\n",
       "0                        Toy Story           7.7      5415.0  1995   \n",
       "1                          Jumanji           6.9      2413.0  1995   \n",
       "2                 Grumpier Old Men           6.5        92.0  1995   \n",
       "3                Waiting to Exhale           6.1        34.0  1995   \n",
       "4      Father of the Bride Part II           5.7       173.0  1995   \n",
       "...                            ...           ...         ...   ...   \n",
       "46623                       Subdue           4.0         1.0     0   \n",
       "46624          Century of Birthing           9.0         3.0  2011   \n",
       "46625                     Betrayal           3.8         6.0  2003   \n",
       "46626             Satan Triumphant           0.0         0.0  1917   \n",
       "46627                     Queerama           0.0         0.0  2017   \n",
       "\n",
       "                                                    cast  \\\n",
       "0      [{'cast_id': 14, 'character': 'Woody (voice)',...   \n",
       "1      [{'cast_id': 1, 'character': 'Alan Parrish', '...   \n",
       "2      [{'cast_id': 2, 'character': 'Max Goldman', 'c...   \n",
       "3      [{'cast_id': 1, 'character': \"Savannah 'Vannah...   \n",
       "4      [{'cast_id': 1, 'character': 'George Banks', '...   \n",
       "...                                                  ...   \n",
       "46623  [{'cast_id': 0, 'character': '', 'credit_id': ...   \n",
       "46624  [{'cast_id': 1002, 'character': 'Sister Angela...   \n",
       "46625  [{'cast_id': 6, 'character': 'Emily Shaw', 'cr...   \n",
       "46626  [{'cast_id': 2, 'character': '', 'credit_id': ...   \n",
       "46627                                                 []   \n",
       "\n",
       "                                                    crew  \\\n",
       "0      [{'credit_id': '52fe4284c3a36847f8024f49', 'de...   \n",
       "1      [{'credit_id': '52fe44bfc3a36847f80a7cd1', 'de...   \n",
       "2      [{'credit_id': '52fe466a9251416c75077a89', 'de...   \n",
       "3      [{'credit_id': '52fe44779251416c91011acb', 'de...   \n",
       "4      [{'credit_id': '52fe44959251416c75039ed7', 'de...   \n",
       "...                                                  ...   \n",
       "46623  [{'credit_id': '5894a97d925141426c00818c', 'de...   \n",
       "46624  [{'credit_id': '52fe4af1c3a36847f81e9b15', 'de...   \n",
       "46625  [{'credit_id': '52fe4776c3a368484e0c8387', 'de...   \n",
       "46626  [{'credit_id': '533bccebc3a36844cf0011a7', 'de...   \n",
       "46627  [{'credit_id': '593e676c92514105b702e68e', 'de...   \n",
       "\n",
       "                                                keywords  \n",
       "0      [{'id': 931, 'name': 'jealousy'}, {'id': 4290,...  \n",
       "1      [{'id': 10090, 'name': 'board game'}, {'id': 1...  \n",
       "2      [{'id': 1495, 'name': 'fishing'}, {'id': 12392...  \n",
       "3      [{'id': 818, 'name': 'based on novel'}, {'id':...  \n",
       "4      [{'id': 1009, 'name': 'baby'}, {'id': 1599, 'n...  \n",
       "...                                                  ...  \n",
       "46623             [{'id': 10703, 'name': 'tragic love'}]  \n",
       "46624  [{'id': 2679, 'name': 'artist'}, {'id': 14531,...  \n",
       "46625                                                 []  \n",
       "46626                                                 []  \n",
       "46627                                                 []  \n",
       "\n",
       "[46628 rows x 9 columns]"
      ]
     },
     "execution_count": 12,
     "metadata": {},
     "output_type": "execute_result"
    }
   ],
   "source": [
    "## merged data set\n",
    "filter_df"
   ]
  },
  {
   "cell_type": "code",
   "execution_count": 13,
   "id": "cf80c6db",
   "metadata": {},
   "outputs": [],
   "source": [
    "## convert the string to its corresponding type of evaluation purpose.\n",
    "from ast import literal_eval"
   ]
  },
  {
   "cell_type": "code",
   "execution_count": 14,
   "id": "5999c3ae",
   "metadata": {},
   "outputs": [],
   "source": [
    "filter_df['cast'] = filter_df['cast'].apply(literal_eval)"
   ]
  },
  {
   "cell_type": "code",
   "execution_count": 15,
   "id": "73dddc7c",
   "metadata": {},
   "outputs": [],
   "source": [
    "filter_df['crew'] = filter_df['crew'].apply(literal_eval)"
   ]
  },
  {
   "cell_type": "code",
   "execution_count": 16,
   "id": "aa4eb899",
   "metadata": {},
   "outputs": [],
   "source": [
    "filter_df['keywords'] = filter_df['keywords'].apply(literal_eval)"
   ]
  },
  {
   "cell_type": "markdown",
   "id": "6ec565bf",
   "metadata": {},
   "source": [
    "#### using the crew column to extract out the director of the movie.\n",
    "#### using the cast column to get lead actors.\n"
   ]
  },
  {
   "cell_type": "code",
   "execution_count": 17,
   "id": "237f4b8d",
   "metadata": {},
   "outputs": [
    {
     "data": {
      "text/plain": [
       "0           John Lasseter\n",
       "1            Joe Johnston\n",
       "2           Howard Deutch\n",
       "3         Forest Whitaker\n",
       "4           Charles Shyer\n",
       "               ...       \n",
       "46623    Hamid Nematollah\n",
       "46624            Lav Diaz\n",
       "46625      Mark L. Lester\n",
       "46626    Yakov Protazanov\n",
       "46627       Daisy Asquith\n",
       "Name: director, Length: 46628, dtype: object"
      ]
     },
     "execution_count": 17,
     "metadata": {},
     "output_type": "execute_result"
    }
   ],
   "source": [
    "filter_df['director'] = filter_df['crew'].apply(find_director) \n",
    "filter_df['director']"
   ]
  },
  {
   "cell_type": "code",
   "execution_count": 18,
   "id": "23e655b7",
   "metadata": {},
   "outputs": [
    {
     "data": {
      "text/plain": [
       "0        [Tom Hanks, Tim Allen, Don Rickles, Jim Varney...\n",
       "1        [Robin Williams, Jonathan Hyde, Kirsten Dunst,...\n",
       "2        [Walter Matthau, Jack Lemmon, Ann-Margret, Sop...\n",
       "3        [Whitney Houston, Angela Bassett, Loretta Devi...\n",
       "4        [Steve Martin, Diane Keaton, Martin Short, Kim...\n",
       "                               ...                        \n",
       "46623          [Leila Hatami, Kourosh Tahami, Elham Korda]\n",
       "46624    [Angel Aquino, Perry Dizon, Hazel Orencio, Joe...\n",
       "46625    [Erika Eleniak, Adam Baldwin, Julie du Page, J...\n",
       "46626    [Iwan Mosschuchin, Nathalie Lissenko, Pavel Pa...\n",
       "46627                                                   []\n",
       "Name: cast, Length: 46628, dtype: object"
      ]
     },
     "execution_count": 18,
     "metadata": {},
     "output_type": "execute_result"
    }
   ],
   "source": [
    "filter_df['cast'] = filter_df['cast'].apply(lead_cast)\n",
    "filter_df['cast']"
   ]
  },
  {
   "cell_type": "markdown",
   "id": "e2755570",
   "metadata": {},
   "source": [
    "##### the side roles do not impact the overall experince of the movie, we can avoid side roles and focus on the main characters, which in most probable would be played by A-list actors."
   ]
  },
  {
   "cell_type": "code",
   "execution_count": 19,
   "id": "12ec26bd",
   "metadata": {},
   "outputs": [],
   "source": [
    "filter_df['cast'] = filter_df['cast'].apply(lambda x : x[:2] if len(x) > 2 else x)"
   ]
  },
  {
   "cell_type": "code",
   "execution_count": 20,
   "id": "61ab5953",
   "metadata": {},
   "outputs": [
    {
     "data": {
      "text/plain": [
       "0                       [Tom Hanks, Tim Allen]\n",
       "1              [Robin Williams, Jonathan Hyde]\n",
       "2                [Walter Matthau, Jack Lemmon]\n",
       "3            [Whitney Houston, Angela Bassett]\n",
       "4                 [Steve Martin, Diane Keaton]\n",
       "                         ...                  \n",
       "46623           [Leila Hatami, Kourosh Tahami]\n",
       "46624              [Angel Aquino, Perry Dizon]\n",
       "46625            [Erika Eleniak, Adam Baldwin]\n",
       "46626    [Iwan Mosschuchin, Nathalie Lissenko]\n",
       "46627                                       []\n",
       "Name: cast, Length: 46628, dtype: object"
      ]
     },
     "execution_count": 20,
     "metadata": {},
     "output_type": "execute_result"
    }
   ],
   "source": [
    "filter_df['cast']"
   ]
  },
  {
   "cell_type": "code",
   "execution_count": 21,
   "id": "c0941afe",
   "metadata": {},
   "outputs": [
    {
     "data": {
      "text/plain": [
       "0        [jealousy, toy, boy, friendship, friends, riva...\n",
       "1        [board game, disappearance, based on children'...\n",
       "2        [fishing, best friend, duringcreditsstinger, o...\n",
       "3        [based on novel, interracial relationship, sin...\n",
       "4        [baby, midlife crisis, confidence, aging, daug...\n",
       "                               ...                        \n",
       "46623                                        [tragic love]\n",
       "46624                                [artist, play, pinoy]\n",
       "46625                                                   []\n",
       "46626                                                   []\n",
       "46627                                                   []\n",
       "Name: keywords, Length: 46628, dtype: object"
      ]
     },
     "execution_count": 21,
     "metadata": {},
     "output_type": "execute_result"
    }
   ],
   "source": [
    "filter_df['keywords'] = filter_df['keywords'].apply(keyword_extractor)\n",
    "filter_df['keywords']"
   ]
  },
  {
   "cell_type": "code",
   "execution_count": 22,
   "id": "834a95e3",
   "metadata": {},
   "outputs": [],
   "source": [
    "freq_word_dict =  freq_words(filter_df['keywords'])"
   ]
  },
  {
   "cell_type": "code",
   "execution_count": 23,
   "id": "f068f69c",
   "metadata": {},
   "outputs": [],
   "source": [
    "s = filter_df.apply(lambda x: pd.Series(x['keywords']),axis=1).stack().reset_index(level=1, drop=True)\n",
    "s.name = 'keyword'"
   ]
  },
  {
   "cell_type": "code",
   "execution_count": 24,
   "id": "28405caf",
   "metadata": {},
   "outputs": [],
   "source": [
    "s = s.value_counts()"
   ]
  },
  {
   "cell_type": "code",
   "execution_count": 25,
   "id": "7278a0c5",
   "metadata": {},
   "outputs": [],
   "source": [
    "s = s[s > 1]"
   ]
  },
  {
   "cell_type": "code",
   "execution_count": 26,
   "id": "ade6c983",
   "metadata": {},
   "outputs": [
    {
     "data": {
      "text/plain": [
       "count    11397.000000\n",
       "mean        13.238747\n",
       "std         49.614615\n",
       "min          2.000000\n",
       "25%          2.000000\n",
       "50%          4.000000\n",
       "75%         10.000000\n",
       "max       3128.000000\n",
       "Name: keyword, dtype: float64"
      ]
     },
     "execution_count": 26,
     "metadata": {},
     "output_type": "execute_result"
    }
   ],
   "source": [
    "s.describe()"
   ]
  },
  {
   "cell_type": "code",
   "execution_count": 27,
   "id": "aca604b6",
   "metadata": {},
   "outputs": [],
   "source": [
    "filter_df['keywords'] = filter_df['keywords'].apply(filtered_keywords)"
   ]
  },
  {
   "cell_type": "code",
   "execution_count": 28,
   "id": "d647164e",
   "metadata": {},
   "outputs": [
    {
     "data": {
      "text/html": [
       "<div>\n",
       "<style scoped>\n",
       "    .dataframe tbody tr th:only-of-type {\n",
       "        vertical-align: middle;\n",
       "    }\n",
       "\n",
       "    .dataframe tbody tr th {\n",
       "        vertical-align: top;\n",
       "    }\n",
       "\n",
       "    .dataframe thead th {\n",
       "        text-align: right;\n",
       "    }\n",
       "</style>\n",
       "<table border=\"1\" class=\"dataframe\">\n",
       "  <thead>\n",
       "    <tr style=\"text-align: right;\">\n",
       "      <th></th>\n",
       "      <th>id</th>\n",
       "      <th>genres</th>\n",
       "      <th>title</th>\n",
       "      <th>vote_average</th>\n",
       "      <th>vote_count</th>\n",
       "      <th>year</th>\n",
       "      <th>cast</th>\n",
       "      <th>crew</th>\n",
       "      <th>keywords</th>\n",
       "      <th>director</th>\n",
       "    </tr>\n",
       "  </thead>\n",
       "  <tbody>\n",
       "    <tr>\n",
       "      <th>0</th>\n",
       "      <td>862</td>\n",
       "      <td>[{'id': 16, 'name': 'Animation'}, {'id': 35, '...</td>\n",
       "      <td>Toy Story</td>\n",
       "      <td>7.7</td>\n",
       "      <td>5415.0</td>\n",
       "      <td>1995</td>\n",
       "      <td>[Tom Hanks, Tim Allen]</td>\n",
       "      <td>[{'credit_id': '52fe4284c3a36847f8024f49', 'de...</td>\n",
       "      <td>[jealousy, toy, boy, friendship, friends, riva...</td>\n",
       "      <td>John Lasseter</td>\n",
       "    </tr>\n",
       "    <tr>\n",
       "      <th>1</th>\n",
       "      <td>8844</td>\n",
       "      <td>[{'id': 12, 'name': 'Adventure'}, {'id': 14, '...</td>\n",
       "      <td>Jumanji</td>\n",
       "      <td>6.9</td>\n",
       "      <td>2413.0</td>\n",
       "      <td>1995</td>\n",
       "      <td>[Robin Williams, Jonathan Hyde]</td>\n",
       "      <td>[{'credit_id': '52fe44bfc3a36847f80a7cd1', 'de...</td>\n",
       "      <td>[board game, disappearance, based on children'...</td>\n",
       "      <td>Joe Johnston</td>\n",
       "    </tr>\n",
       "    <tr>\n",
       "      <th>2</th>\n",
       "      <td>15602</td>\n",
       "      <td>[{'id': 10749, 'name': 'Romance'}, {'id': 35, ...</td>\n",
       "      <td>Grumpier Old Men</td>\n",
       "      <td>6.5</td>\n",
       "      <td>92.0</td>\n",
       "      <td>1995</td>\n",
       "      <td>[Walter Matthau, Jack Lemmon]</td>\n",
       "      <td>[{'credit_id': '52fe466a9251416c75077a89', 'de...</td>\n",
       "      <td>[fishing, best friend, duringcreditsstinger, o...</td>\n",
       "      <td>Howard Deutch</td>\n",
       "    </tr>\n",
       "    <tr>\n",
       "      <th>3</th>\n",
       "      <td>31357</td>\n",
       "      <td>[{'id': 35, 'name': 'Comedy'}, {'id': 18, 'nam...</td>\n",
       "      <td>Waiting to Exhale</td>\n",
       "      <td>6.1</td>\n",
       "      <td>34.0</td>\n",
       "      <td>1995</td>\n",
       "      <td>[Whitney Houston, Angela Bassett]</td>\n",
       "      <td>[{'credit_id': '52fe44779251416c91011acb', 'de...</td>\n",
       "      <td>[based on novel, interracial relationship, sin...</td>\n",
       "      <td>Forest Whitaker</td>\n",
       "    </tr>\n",
       "    <tr>\n",
       "      <th>4</th>\n",
       "      <td>11862</td>\n",
       "      <td>[{'id': 35, 'name': 'Comedy'}]</td>\n",
       "      <td>Father of the Bride Part II</td>\n",
       "      <td>5.7</td>\n",
       "      <td>173.0</td>\n",
       "      <td>1995</td>\n",
       "      <td>[Steve Martin, Diane Keaton]</td>\n",
       "      <td>[{'credit_id': '52fe44959251416c75039ed7', 'de...</td>\n",
       "      <td>[baby, midlife crisis, confidence, aging, daug...</td>\n",
       "      <td>Charles Shyer</td>\n",
       "    </tr>\n",
       "    <tr>\n",
       "      <th>...</th>\n",
       "      <td>...</td>\n",
       "      <td>...</td>\n",
       "      <td>...</td>\n",
       "      <td>...</td>\n",
       "      <td>...</td>\n",
       "      <td>...</td>\n",
       "      <td>...</td>\n",
       "      <td>...</td>\n",
       "      <td>...</td>\n",
       "      <td>...</td>\n",
       "    </tr>\n",
       "    <tr>\n",
       "      <th>46623</th>\n",
       "      <td>439050</td>\n",
       "      <td>[{'id': 18, 'name': 'Drama'}, {'id': 10751, 'n...</td>\n",
       "      <td>Subdue</td>\n",
       "      <td>4.0</td>\n",
       "      <td>1.0</td>\n",
       "      <td>0</td>\n",
       "      <td>[Leila Hatami, Kourosh Tahami]</td>\n",
       "      <td>[{'credit_id': '5894a97d925141426c00818c', 'de...</td>\n",
       "      <td>[tragic love]</td>\n",
       "      <td>Hamid Nematollah</td>\n",
       "    </tr>\n",
       "    <tr>\n",
       "      <th>46624</th>\n",
       "      <td>111109</td>\n",
       "      <td>[{'id': 18, 'name': 'Drama'}]</td>\n",
       "      <td>Century of Birthing</td>\n",
       "      <td>9.0</td>\n",
       "      <td>3.0</td>\n",
       "      <td>2011</td>\n",
       "      <td>[Angel Aquino, Perry Dizon]</td>\n",
       "      <td>[{'credit_id': '52fe4af1c3a36847f81e9b15', 'de...</td>\n",
       "      <td>[artist, play, pinoy]</td>\n",
       "      <td>Lav Diaz</td>\n",
       "    </tr>\n",
       "    <tr>\n",
       "      <th>46625</th>\n",
       "      <td>67758</td>\n",
       "      <td>[{'id': 28, 'name': 'Action'}, {'id': 18, 'nam...</td>\n",
       "      <td>Betrayal</td>\n",
       "      <td>3.8</td>\n",
       "      <td>6.0</td>\n",
       "      <td>2003</td>\n",
       "      <td>[Erika Eleniak, Adam Baldwin]</td>\n",
       "      <td>[{'credit_id': '52fe4776c3a368484e0c8387', 'de...</td>\n",
       "      <td>[]</td>\n",
       "      <td>Mark L. Lester</td>\n",
       "    </tr>\n",
       "    <tr>\n",
       "      <th>46626</th>\n",
       "      <td>227506</td>\n",
       "      <td>[]</td>\n",
       "      <td>Satan Triumphant</td>\n",
       "      <td>0.0</td>\n",
       "      <td>0.0</td>\n",
       "      <td>1917</td>\n",
       "      <td>[Iwan Mosschuchin, Nathalie Lissenko]</td>\n",
       "      <td>[{'credit_id': '533bccebc3a36844cf0011a7', 'de...</td>\n",
       "      <td>[]</td>\n",
       "      <td>Yakov Protazanov</td>\n",
       "    </tr>\n",
       "    <tr>\n",
       "      <th>46627</th>\n",
       "      <td>461257</td>\n",
       "      <td>[]</td>\n",
       "      <td>Queerama</td>\n",
       "      <td>0.0</td>\n",
       "      <td>0.0</td>\n",
       "      <td>2017</td>\n",
       "      <td>[]</td>\n",
       "      <td>[{'credit_id': '593e676c92514105b702e68e', 'de...</td>\n",
       "      <td>[]</td>\n",
       "      <td>Daisy Asquith</td>\n",
       "    </tr>\n",
       "  </tbody>\n",
       "</table>\n",
       "<p>46628 rows × 10 columns</p>\n",
       "</div>"
      ],
      "text/plain": [
       "           id                                             genres  \\\n",
       "0         862  [{'id': 16, 'name': 'Animation'}, {'id': 35, '...   \n",
       "1        8844  [{'id': 12, 'name': 'Adventure'}, {'id': 14, '...   \n",
       "2       15602  [{'id': 10749, 'name': 'Romance'}, {'id': 35, ...   \n",
       "3       31357  [{'id': 35, 'name': 'Comedy'}, {'id': 18, 'nam...   \n",
       "4       11862                     [{'id': 35, 'name': 'Comedy'}]   \n",
       "...       ...                                                ...   \n",
       "46623  439050  [{'id': 18, 'name': 'Drama'}, {'id': 10751, 'n...   \n",
       "46624  111109                      [{'id': 18, 'name': 'Drama'}]   \n",
       "46625   67758  [{'id': 28, 'name': 'Action'}, {'id': 18, 'nam...   \n",
       "46626  227506                                                 []   \n",
       "46627  461257                                                 []   \n",
       "\n",
       "                             title  vote_average  vote_count  year  \\\n",
       "0                        Toy Story           7.7      5415.0  1995   \n",
       "1                          Jumanji           6.9      2413.0  1995   \n",
       "2                 Grumpier Old Men           6.5        92.0  1995   \n",
       "3                Waiting to Exhale           6.1        34.0  1995   \n",
       "4      Father of the Bride Part II           5.7       173.0  1995   \n",
       "...                            ...           ...         ...   ...   \n",
       "46623                       Subdue           4.0         1.0     0   \n",
       "46624          Century of Birthing           9.0         3.0  2011   \n",
       "46625                     Betrayal           3.8         6.0  2003   \n",
       "46626             Satan Triumphant           0.0         0.0  1917   \n",
       "46627                     Queerama           0.0         0.0  2017   \n",
       "\n",
       "                                        cast  \\\n",
       "0                     [Tom Hanks, Tim Allen]   \n",
       "1            [Robin Williams, Jonathan Hyde]   \n",
       "2              [Walter Matthau, Jack Lemmon]   \n",
       "3          [Whitney Houston, Angela Bassett]   \n",
       "4               [Steve Martin, Diane Keaton]   \n",
       "...                                      ...   \n",
       "46623         [Leila Hatami, Kourosh Tahami]   \n",
       "46624            [Angel Aquino, Perry Dizon]   \n",
       "46625          [Erika Eleniak, Adam Baldwin]   \n",
       "46626  [Iwan Mosschuchin, Nathalie Lissenko]   \n",
       "46627                                     []   \n",
       "\n",
       "                                                    crew  \\\n",
       "0      [{'credit_id': '52fe4284c3a36847f8024f49', 'de...   \n",
       "1      [{'credit_id': '52fe44bfc3a36847f80a7cd1', 'de...   \n",
       "2      [{'credit_id': '52fe466a9251416c75077a89', 'de...   \n",
       "3      [{'credit_id': '52fe44779251416c91011acb', 'de...   \n",
       "4      [{'credit_id': '52fe44959251416c75039ed7', 'de...   \n",
       "...                                                  ...   \n",
       "46623  [{'credit_id': '5894a97d925141426c00818c', 'de...   \n",
       "46624  [{'credit_id': '52fe4af1c3a36847f81e9b15', 'de...   \n",
       "46625  [{'credit_id': '52fe4776c3a368484e0c8387', 'de...   \n",
       "46626  [{'credit_id': '533bccebc3a36844cf0011a7', 'de...   \n",
       "46627  [{'credit_id': '593e676c92514105b702e68e', 'de...   \n",
       "\n",
       "                                                keywords          director  \n",
       "0      [jealousy, toy, boy, friendship, friends, riva...     John Lasseter  \n",
       "1      [board game, disappearance, based on children'...      Joe Johnston  \n",
       "2      [fishing, best friend, duringcreditsstinger, o...     Howard Deutch  \n",
       "3      [based on novel, interracial relationship, sin...   Forest Whitaker  \n",
       "4      [baby, midlife crisis, confidence, aging, daug...     Charles Shyer  \n",
       "...                                                  ...               ...  \n",
       "46623                                      [tragic love]  Hamid Nematollah  \n",
       "46624                              [artist, play, pinoy]          Lav Diaz  \n",
       "46625                                                 []    Mark L. Lester  \n",
       "46626                                                 []  Yakov Protazanov  \n",
       "46627                                                 []     Daisy Asquith  \n",
       "\n",
       "[46628 rows x 10 columns]"
      ]
     },
     "execution_count": 28,
     "metadata": {},
     "output_type": "execute_result"
    }
   ],
   "source": [
    "filter_df"
   ]
  },
  {
   "cell_type": "code",
   "execution_count": 29,
   "id": "3597120c",
   "metadata": {},
   "outputs": [],
   "source": [
    "filter_df['genres'] = filter_df['genres'].apply(literal_eval).apply(get_genres)"
   ]
  },
  {
   "cell_type": "code",
   "execution_count": 30,
   "id": "c4fdf61a",
   "metadata": {},
   "outputs": [
    {
     "data": {
      "text/plain": [
       "0         [Animation, Comedy, Family]\n",
       "1        [Adventure, Fantasy, Family]\n",
       "2                   [Romance, Comedy]\n",
       "3            [Comedy, Drama, Romance]\n",
       "4                            [Comedy]\n",
       "                     ...             \n",
       "46623                 [Drama, Family]\n",
       "46624                         [Drama]\n",
       "46625       [Action, Drama, Thriller]\n",
       "46626                              []\n",
       "46627                              []\n",
       "Name: genres, Length: 46628, dtype: object"
      ]
     },
     "execution_count": 30,
     "metadata": {},
     "output_type": "execute_result"
    }
   ],
   "source": [
    "filter_df['genres']"
   ]
  },
  {
   "cell_type": "code",
   "execution_count": 31,
   "id": "49aff895",
   "metadata": {},
   "outputs": [],
   "source": [
    "filter_df['cast'] = filter_df['cast'].apply(lambda x: [str.lower(i.replace(\" \",\"\")) for i in x])"
   ]
  },
  {
   "cell_type": "code",
   "execution_count": 32,
   "id": "29ed2511",
   "metadata": {},
   "outputs": [
    {
     "data": {
      "text/plain": [
       "917"
      ]
     },
     "execution_count": 32,
     "metadata": {},
     "output_type": "execute_result"
    }
   ],
   "source": [
    "## check for missing values.\n",
    "filter_df['director'].isna().sum()"
   ]
  },
  {
   "cell_type": "code",
   "execution_count": 33,
   "id": "5d30a07f",
   "metadata": {},
   "outputs": [],
   "source": [
    "## fill the missing values in director columns with unknown\n",
    "filter_df['director'] = filter_df['director'].fillna('unknown')"
   ]
  },
  {
   "cell_type": "code",
   "execution_count": 34,
   "id": "cf61f6be",
   "metadata": {},
   "outputs": [
    {
     "data": {
      "text/plain": [
       "0           johnlasseter\n",
       "1            joejohnston\n",
       "2           howarddeutch\n",
       "3         forestwhitaker\n",
       "4           charlesshyer\n",
       "              ...       \n",
       "46623    hamidnematollah\n",
       "46624            lavdiaz\n",
       "46625       markl.lester\n",
       "46626    yakovprotazanov\n",
       "46627       daisyasquith\n",
       "Name: director, Length: 46628, dtype: object"
      ]
     },
     "execution_count": 34,
     "metadata": {},
     "output_type": "execute_result"
    }
   ],
   "source": [
    "## make the names to lower case\n",
    "filter_df['director'] = filter_df['director'].astype('str').apply(lambda x: str.lower(x.replace(\" \", \"\")))\n",
    "filter_df['director']"
   ]
  },
  {
   "cell_type": "code",
   "execution_count": 35,
   "id": "7c6645b5",
   "metadata": {},
   "outputs": [],
   "source": [
    "## drop the cre columns\n",
    "filter_df.drop('crew', axis = 1, inplace = True)"
   ]
  },
  {
   "cell_type": "code",
   "execution_count": 36,
   "id": "0e6d36f7",
   "metadata": {},
   "outputs": [
    {
     "data": {
      "text/plain": [
       "0         [animation, comedy, family]\n",
       "1        [adventure, fantasy, family]\n",
       "2                   [romance, comedy]\n",
       "3            [comedy, drama, romance]\n",
       "4                            [comedy]\n",
       "                     ...             \n",
       "46623                 [drama, family]\n",
       "46624                         [drama]\n",
       "46625       [action, drama, thriller]\n",
       "46626                              []\n",
       "46627                              []\n",
       "Name: genres, Length: 46628, dtype: object"
      ]
     },
     "execution_count": 36,
     "metadata": {},
     "output_type": "execute_result"
    }
   ],
   "source": [
    "## extract the genres\n",
    "filter_df['genres'] = filter_df['genres'].apply(lambda x : [str.lower(i.replace(\" \",\"\")) for i in x])\n",
    "filter_df['genres']"
   ]
  },
  {
   "cell_type": "markdown",
   "id": "49fac729",
   "metadata": {},
   "source": [
    "### \"keyword\" pre-processing\n"
   ]
  },
  {
   "cell_type": "code",
   "execution_count": 37,
   "id": "baa46e0e",
   "metadata": {},
   "outputs": [],
   "source": [
    "## making a copy of the filtered dataframe for processing.\n",
    "copy_df = filter_df.copy(deep = True)"
   ]
  },
  {
   "cell_type": "code",
   "execution_count": 38,
   "id": "56931521",
   "metadata": {},
   "outputs": [],
   "source": [
    "copy_df['mix'] = \"\""
   ]
  },
  {
   "cell_type": "code",
   "execution_count": 39,
   "id": "77deadc0",
   "metadata": {},
   "outputs": [],
   "source": [
    "## making a column by mising keywords, cast, genres and director\n",
    "for i in range(len(copy_df)):\n",
    "    copy_df['mix'][i] = copy_df['keywords'][i] + copy_df['cast'][i] + copy_df['genres'][i]\n",
    "    copy_df['mix'][i].append(copy_df['director'][i])\n",
    "    "
   ]
  },
  {
   "cell_type": "code",
   "execution_count": 40,
   "id": "bb050183",
   "metadata": {},
   "outputs": [],
   "source": [
    "copy_df['mix'] = copy_df['mix'].apply(lambda x: ' '.join(x))"
   ]
  },
  {
   "cell_type": "code",
   "execution_count": 41,
   "id": "236041b7",
   "metadata": {},
   "outputs": [
    {
     "data": {
      "text/plain": [
       "0        jealousy toy boy friendship friends rivalry bo...\n",
       "1        board game disappearance based on children's b...\n",
       "2        fishing best friend duringcreditsstinger old m...\n",
       "3        based on novel interracial relationship single...\n",
       "4        baby midlife crisis confidence aging daughter ...\n",
       "                               ...                        \n",
       "46623    tragic love leilahatami kouroshtahami drama fa...\n",
       "46624    artist play pinoy angelaquino perrydizon drama...\n",
       "46625    erikaeleniak adambaldwin action drama thriller...\n",
       "46626     iwanmosschuchin nathalielissenko yakovprotazanov\n",
       "46627                                         daisyasquith\n",
       "Name: mix, Length: 46628, dtype: object"
      ]
     },
     "execution_count": 41,
     "metadata": {},
     "output_type": "execute_result"
    }
   ],
   "source": [
    "copy_df['mix']"
   ]
  },
  {
   "cell_type": "code",
   "execution_count": 42,
   "id": "5678959f",
   "metadata": {},
   "outputs": [],
   "source": [
    "##since the dataframe is large, we will cut down the size in order vecotrization. \n",
    "part_df = copy_df.iloc[:28000,:]"
   ]
  },
  {
   "cell_type": "code",
   "execution_count": 43,
   "id": "37345e5f",
   "metadata": {},
   "outputs": [],
   "source": [
    "count = CountVectorizer(analyzer='word',ngram_range=(1, 2),min_df=0, stop_words='english')\n",
    "count_matrix = count.fit_transform(part_df['mix'])"
   ]
  },
  {
   "cell_type": "code",
   "execution_count": null,
   "id": "0d6d22d4",
   "metadata": {},
   "outputs": [],
   "source": [
    "### cosine similarity to transform text used to transform a given text into a vector on the basis of the frequency (count) of each word that occurs in the entire text.\n",
    "cosine_sim = cosine_similarity(count_matrix, count_matrix)"
   ]
  },
  {
   "cell_type": "code",
   "execution_count": null,
   "id": "93341229",
   "metadata": {},
   "outputs": [],
   "source": [
    "part_df = part_df.reset_index()\n",
    "titles = part_df['title']\n",
    "indices = pd.Series(part_df.index, index = part_df['title'])"
   ]
  },
  {
   "cell_type": "code",
   "execution_count": null,
   "id": "d71956f6",
   "metadata": {},
   "outputs": [],
   "source": [
    "# def get_recommendations(title):\n",
    "#     idx = indices[title]\n",
    "#     sim_scores = list(enumerate(cosine_sim[idx]))\n",
    "#     sim_scores = sorted(sim_scores, key=lambda x: x[1], reverse=True)\n",
    "#     sim_scores = sim_scores[1:31]\n",
    "#     movie_indices = [i[0] for i in sim_scores]\n",
    "#     return titles.iloc[movie_indices]"
   ]
  },
  {
   "cell_type": "code",
   "execution_count": null,
   "id": "362dda9a",
   "metadata": {},
   "outputs": [],
   "source": [
    "# get_recommendations('Braveheart').head(10)"
   ]
  },
  {
   "cell_type": "code",
   "execution_count": null,
   "id": "7729c531",
   "metadata": {},
   "outputs": [],
   "source": [
    "vote_counts = movie_df[movie_df['vote_count'].notnull()]['vote_count'].astype('int')\n",
    "vote_averages = movie_df[movie_df['vote_average'].notnull()]['vote_average'].astype('int')\n",
    "C = vote_averages.mean()\n",
    "C"
   ]
  },
  {
   "cell_type": "code",
   "execution_count": null,
   "id": "9f1778a9",
   "metadata": {},
   "outputs": [],
   "source": [
    "m = vote_counts.quantile(0.95)\n",
    "m"
   ]
  },
  {
   "cell_type": "code",
   "execution_count": null,
   "id": "77120a44",
   "metadata": {},
   "outputs": [],
   "source": [
    "def weighted_rating(x):\n",
    "    v = x['vote_count']\n",
    "    R = x['vote_average']\n",
    "    return (v/(v+m) * R) + (m/(m+v) * C)\n",
    "\n",
    "## recommendation function\n",
    "def recommendations(title):\n",
    "    idx = indices[title]\n",
    "    sim_scores = list(enumerate(cosine_sim[idx]))\n",
    "    sim_scores = sorted(sim_scores, key=lambda x: x[1], reverse=True)\n",
    "    sim_scores = sim_scores[1:26]\n",
    "    movie_indices = [i[0] for i in sim_scores]\n",
    "    \n",
    "    movies = movie_df.iloc[movie_indices][['title', 'vote_count', 'vote_average', 'year']]\n",
    "    vote_counts = movies[movies['vote_count'].notnull()]['vote_count'].astype('int')\n",
    "    vote_averages = movies[movies['vote_average'].notnull()]['vote_average'].astype('int')\n",
    "    C = vote_averages.mean()\n",
    "    m = vote_counts.quantile(0.60)\n",
    "    qualified = movies[(movies['vote_count'] >= m) & (movies['vote_count'].notnull()) & (movies['vote_average'].notnull())]\n",
    "    qualified['vote_count'] = qualified['vote_count'].astype('int')\n",
    "    qualified['vote_average'] = qualified['vote_average'].astype('int')\n",
    "    qualified['wr'] = qualified.apply(weighted_rating, axis=1)\n",
    "    qualified = qualified.sort_values('wr', ascending=False).head(10)\n",
    "    return qualified"
   ]
  },
  {
   "cell_type": "code",
   "execution_count": null,
   "id": "8ccff9ff",
   "metadata": {},
   "outputs": [],
   "source": [
    "recommendations('Braveheart').head(5)"
   ]
  },
  {
   "cell_type": "markdown",
   "id": "721b5f77",
   "metadata": {},
   "source": [
    "#### title similar to \"Braveheart\" are \n",
    "1. Bicycle Thieves\n",
    "2. The Skin I Live In\t\n",
    "3. Sudden Impact\t\n",
    "4. Drunken Angel\t\n",
    "5. La Grande Bouffe"
   ]
  },
  {
   "cell_type": "code",
   "execution_count": null,
   "id": "41dc034a",
   "metadata": {},
   "outputs": [],
   "source": []
  }
 ],
 "metadata": {
  "kernelspec": {
   "display_name": "Python 3 (ipykernel)",
   "language": "python",
   "name": "python3"
  },
  "language_info": {
   "codemirror_mode": {
    "name": "ipython",
    "version": 3
   },
   "file_extension": ".py",
   "mimetype": "text/x-python",
   "name": "python",
   "nbconvert_exporter": "python",
   "pygments_lexer": "ipython3",
   "version": "3.9.7"
  }
 },
 "nbformat": 4,
 "nbformat_minor": 5
}
